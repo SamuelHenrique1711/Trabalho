{
  "nbformat": 4,
  "nbformat_minor": 0,
  "metadata": {
    "colab": {
      "provenance": []
    },
    "kernelspec": {
      "name": "python3",
      "display_name": "Python 3"
    },
    "language_info": {
      "name": "python"
    }
  },
  "cells": [
    {
      "cell_type": "markdown",
      "source": [
        "# ***Trabalho de FOO***"
      ],
      "metadata": {
        "id": "Uin_uWSBuCad"
      }
    },
    {
      "cell_type": "code",
      "execution_count": null,
      "metadata": {
        "id": "tqnw8e53gnRV",
        "colab": {
          "base_uri": "https://localhost:8080/"
        },
        "outputId": "40677af9-7d0e-43b5-dee0-110dd4ebbf5b"
      },
      "outputs": [
        {
          "output_type": "stream",
          "name": "stdout",
          "text": [
            "Digite o valor de n que queira saber as somas dos anteriores: 10\n",
            "A soma dos últimos dois números são:  55\n",
            "Os números ordem são: 0 1 1 2 3 5 8 13 21 34 "
          ]
        }
      ],
      "source": [
        "def finobucci(n):\n",
        "  if n == 0:\n",
        "    return 0\n",
        "  elif (n == 1 or n == 2):\n",
        "    return 1\n",
        "  else:\n",
        "    return finobucci(n - 1) + finobucci(n - 2)\n",
        "\n",
        "n = int(input(\"Digite o valor de n que queira saber as somas dos anteriores: \"))\n",
        "print(\"A soma dos últimos dois números são: \", finobucci(n))\n",
        "print(\"Os números ordem são:\", end=\" \")\n",
        "for i in range(n):\n",
        "  print(finobucci(i), end=\" \")"
      ]
    },
    {
      "cell_type": "code",
      "source": [
        "def main():\n",
        "    investimento = float(input(\"Informe o valor que será investido por mês (R$): \"))\n",
        "    tj = float(input(\"Informe a taxa de juros mensal (em %): \")) / 100\n",
        "\n",
        "    saldo = 0\n",
        "\n",
        "    while True:\n",
        "        for _ in range(12):\n",
        "            saldo += investimento\n",
        "            saldo += saldo * tj\n",
        "\n",
        "        print(f\"Após  ano(s), o saldo acumulado será de R$ {saldo:.2f}\")\n",
        "\n",
        "\n",
        "        continuar = input(\"Deseja calcular o ano seguinte? (s/n): \").lower()\n",
        "        if continuar != 's':\n",
        "            print(\"Obrigado por usar o simulador!\")\n",
        "            break\n",
        "main()"
      ],
      "metadata": {
        "id": "33pKKXiHhdXe",
        "colab": {
          "base_uri": "https://localhost:8080/"
        },
        "outputId": "1b63abcc-7a01-44e1-f53d-225a0c8be2fd"
      },
      "execution_count": null,
      "outputs": [
        {
          "output_type": "stream",
          "name": "stdout",
          "text": [
            "Informe o valor que será investido por mês (R$): 1000\n",
            "Informe a taxa de juros mensal (em %): 2\n",
            "Após  ano(s), o saldo acumulado será de R$ 13680.33\n",
            "Deseja calcular o ano seguinte? (s/n): S\n",
            "Após  ano(s), o saldo acumulado será de R$ 31030.30\n",
            "Deseja calcular o ano seguinte? (s/n): N\n",
            "Obrigado por usar o simulador!\n"
          ]
        }
      ]
    },
    {
      "cell_type": "code",
      "source": [
        "def calcular_pi(n):\n",
        "    pi = 0\n",
        "    for k in range(n):\n",
        "\n",
        "        pi += ((-1) ** k) / (2 * k + 1)\n",
        "    pi = 4 * pi\n",
        "    return pi\n",
        "\n",
        "n = int(input(\"Digite o número de termos para calcular o valor de Pi: \"))\n",
        "\n",
        "\n",
        "pi_aproximado = calcular_pi(n)\n",
        "\n",
        "print(f\"Valor aproximado de Pi com {n} termos: {pi_aproximado}\")"
      ],
      "metadata": {
        "colab": {
          "base_uri": "https://localhost:8080/"
        },
        "id": "d4zOq-8fhlFe",
        "outputId": "5af05900-23d0-4c7c-c11e-48032a9c6418"
      },
      "execution_count": null,
      "outputs": [
        {
          "output_type": "stream",
          "name": "stdout",
          "text": [
            "Digite o número de termos para calcular o valor de Pi: 10\n",
            "Valor aproximado de Pi com 10 termos: 3.0418396189294032\n"
          ]
        }
      ]
    },
    {
      "cell_type": "code",
      "source": [
        "def validar_cpf(cpf):\n",
        "\n",
        "    cpf = ''.join(filter(str.isdigit, cpf))\n",
        "\n",
        "\n",
        "    if len(cpf) != 11 or cpf == cpf[0] * 11:\n",
        "        return False\n",
        "\n",
        "\n",
        "    def calcular_dv(cpf_parcial, pesos):\n",
        "        soma = sum(int(cpf_parcial[i]) * pesos[i] for i in range(len(cpf_parcial)))\n",
        "        resto = soma % 11\n",
        "        return 0 if resto < 2 else 11 - resto\n",
        "\n",
        "\n",
        "    primeiros_nove = cpf[:9]\n",
        "    dv1 = calcular_dv(primeiros_nove, [10, 9, 8, 7, 6, 5, 4, 3, 2])\n",
        "    dv2 = calcular_dv(primeiros_nove + str(dv1), [11, 10, 9, 8, 7, 6, 5, 4, 3, 2])\n",
        "\n",
        "    return cpf[9] == str(dv1) and cpf[10] == str(dv2)\n",
        "\n",
        "cpf = input(\"Digite o CPF (sem pontos ou traços): \")\n",
        "if validar_cpf(cpf):\n",
        "    print(\"O CPF é válido.\")\n",
        "else:\n",
        "    print(\"O CPF é inválido.\")"
      ],
      "metadata": {
        "id": "JvDoMYTTidLp",
        "colab": {
          "base_uri": "https://localhost:8080/",
          "height": 356
        },
        "outputId": "8d006ee0-8bc1-4aeb-e253-6b07c8e94017"
      },
      "execution_count": null,
      "outputs": [
        {
          "output_type": "error",
          "ename": "KeyboardInterrupt",
          "evalue": "Interrupted by user",
          "traceback": [
            "\u001b[0;31m---------------------------------------------------------------------------\u001b[0m",
            "\u001b[0;31mKeyboardInterrupt\u001b[0m                         Traceback (most recent call last)",
            "\u001b[0;32m<ipython-input-7-4055611a4032>\u001b[0m in \u001b[0;36m<cell line: 22>\u001b[0;34m()\u001b[0m\n\u001b[1;32m     20\u001b[0m     \u001b[0;32mreturn\u001b[0m \u001b[0mcpf\u001b[0m\u001b[0;34m[\u001b[0m\u001b[0;36m9\u001b[0m\u001b[0;34m]\u001b[0m \u001b[0;34m==\u001b[0m \u001b[0mstr\u001b[0m\u001b[0;34m(\u001b[0m\u001b[0mdv1\u001b[0m\u001b[0;34m)\u001b[0m \u001b[0;32mand\u001b[0m \u001b[0mcpf\u001b[0m\u001b[0;34m[\u001b[0m\u001b[0;36m10\u001b[0m\u001b[0;34m]\u001b[0m \u001b[0;34m==\u001b[0m \u001b[0mstr\u001b[0m\u001b[0;34m(\u001b[0m\u001b[0mdv2\u001b[0m\u001b[0;34m)\u001b[0m\u001b[0;34m\u001b[0m\u001b[0;34m\u001b[0m\u001b[0m\n\u001b[1;32m     21\u001b[0m \u001b[0;34m\u001b[0m\u001b[0m\n\u001b[0;32m---> 22\u001b[0;31m \u001b[0mcpf\u001b[0m \u001b[0;34m=\u001b[0m \u001b[0minput\u001b[0m\u001b[0;34m(\u001b[0m\u001b[0;34m\"Digite o CPF (sem pontos ou traços): \"\u001b[0m\u001b[0;34m)\u001b[0m\u001b[0;34m\u001b[0m\u001b[0;34m\u001b[0m\u001b[0m\n\u001b[0m\u001b[1;32m     23\u001b[0m \u001b[0;32mif\u001b[0m \u001b[0mvalidar_cpf\u001b[0m\u001b[0;34m(\u001b[0m\u001b[0mcpf\u001b[0m\u001b[0;34m)\u001b[0m\u001b[0;34m:\u001b[0m\u001b[0;34m\u001b[0m\u001b[0;34m\u001b[0m\u001b[0m\n\u001b[1;32m     24\u001b[0m     \u001b[0mprint\u001b[0m\u001b[0;34m(\u001b[0m\u001b[0;34m\"O CPF é válido.\"\u001b[0m\u001b[0;34m)\u001b[0m\u001b[0;34m\u001b[0m\u001b[0;34m\u001b[0m\u001b[0m\n",
            "\u001b[0;32m/usr/local/lib/python3.10/dist-packages/ipykernel/kernelbase.py\u001b[0m in \u001b[0;36mraw_input\u001b[0;34m(self, prompt)\u001b[0m\n\u001b[1;32m    849\u001b[0m                 \u001b[0;34m\"raw_input was called, but this frontend does not support input requests.\"\u001b[0m\u001b[0;34m\u001b[0m\u001b[0;34m\u001b[0m\u001b[0m\n\u001b[1;32m    850\u001b[0m             )\n\u001b[0;32m--> 851\u001b[0;31m         return self._input_request(str(prompt),\n\u001b[0m\u001b[1;32m    852\u001b[0m             \u001b[0mself\u001b[0m\u001b[0;34m.\u001b[0m\u001b[0m_parent_ident\u001b[0m\u001b[0;34m,\u001b[0m\u001b[0;34m\u001b[0m\u001b[0;34m\u001b[0m\u001b[0m\n\u001b[1;32m    853\u001b[0m             \u001b[0mself\u001b[0m\u001b[0;34m.\u001b[0m\u001b[0m_parent_header\u001b[0m\u001b[0;34m,\u001b[0m\u001b[0;34m\u001b[0m\u001b[0;34m\u001b[0m\u001b[0m\n",
            "\u001b[0;32m/usr/local/lib/python3.10/dist-packages/ipykernel/kernelbase.py\u001b[0m in \u001b[0;36m_input_request\u001b[0;34m(self, prompt, ident, parent, password)\u001b[0m\n\u001b[1;32m    893\u001b[0m             \u001b[0;32mexcept\u001b[0m \u001b[0mKeyboardInterrupt\u001b[0m\u001b[0;34m:\u001b[0m\u001b[0;34m\u001b[0m\u001b[0;34m\u001b[0m\u001b[0m\n\u001b[1;32m    894\u001b[0m                 \u001b[0;31m# re-raise KeyboardInterrupt, to truncate traceback\u001b[0m\u001b[0;34m\u001b[0m\u001b[0;34m\u001b[0m\u001b[0m\n\u001b[0;32m--> 895\u001b[0;31m                 \u001b[0;32mraise\u001b[0m \u001b[0mKeyboardInterrupt\u001b[0m\u001b[0;34m(\u001b[0m\u001b[0;34m\"Interrupted by user\"\u001b[0m\u001b[0;34m)\u001b[0m \u001b[0;32mfrom\u001b[0m \u001b[0;32mNone\u001b[0m\u001b[0;34m\u001b[0m\u001b[0;34m\u001b[0m\u001b[0m\n\u001b[0m\u001b[1;32m    896\u001b[0m             \u001b[0;32mexcept\u001b[0m \u001b[0mException\u001b[0m \u001b[0;32mas\u001b[0m \u001b[0me\u001b[0m\u001b[0;34m:\u001b[0m\u001b[0;34m\u001b[0m\u001b[0;34m\u001b[0m\u001b[0m\n\u001b[1;32m    897\u001b[0m                 \u001b[0mself\u001b[0m\u001b[0;34m.\u001b[0m\u001b[0mlog\u001b[0m\u001b[0;34m.\u001b[0m\u001b[0mwarning\u001b[0m\u001b[0;34m(\u001b[0m\u001b[0;34m\"Invalid Message:\"\u001b[0m\u001b[0;34m,\u001b[0m \u001b[0mexc_info\u001b[0m\u001b[0;34m=\u001b[0m\u001b[0;32mTrue\u001b[0m\u001b[0;34m)\u001b[0m\u001b[0;34m\u001b[0m\u001b[0;34m\u001b[0m\u001b[0m\n",
            "\u001b[0;31mKeyboardInterrupt\u001b[0m: Interrupted by user"
          ]
        }
      ]
    }
  ]
}